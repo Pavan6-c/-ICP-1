{
  "nbformat": 4,
  "nbformat_minor": 0,
  "metadata": {
    "colab": {
      "provenance": [],
      "authorship_tag": "ABX9TyOkoqE6CrkcjO33OLAlxeU7",
      "include_colab_link": true
    },
    "kernelspec": {
      "name": "python3",
      "display_name": "Python 3"
    },
    "language_info": {
      "name": "python"
    }
  },
  "cells": [
    {
      "cell_type": "markdown",
      "metadata": {
        "id": "view-in-github",
        "colab_type": "text"
      },
      "source": [
        "<a href=\"https://colab.research.google.com/github/Pavan6-c/-ICP-1/blob/main/Untitled0.ipynb\" target=\"_parent\"><img src=\"https://colab.research.google.com/assets/colab-badge.svg\" alt=\"Open In Colab\"/></a>"
      ]
    },
    {
      "cell_type": "code",
      "execution_count": 10,
      "metadata": {
        "colab": {
          "base_uri": "https://localhost:8080/"
        },
        "id": "rJ1hT3MU2mRt",
        "outputId": "56b52960-e3cc-49a9-9cc9-7b33d53bfe68"
      },
      "outputs": [
        {
          "output_type": "stream",
          "name": "stdout",
          "text": [
            "Enter a string: cool\n",
            "lo\n"
          ]
        }
      ],
      "source": [
        "s = input(\"Enter a string: \")\n",
        "char_list = list(s)\n",
        "del char_list[0]\n",
        "del char_list[0]\n",
        "char_list.reverse()\n",
        "result = ''.join(char_list)\n",
        "print(result)\n"
      ]
    },
    {
      "cell_type": "markdown",
      "source": [
        "In this program i have taken a string, removed the first two characters, and reversed the remaining characters, and prints the result."
      ],
      "metadata": {
        "id": "RyiLKBJS8gNV"
      }
    },
    {
      "cell_type": "code",
      "source": [
        "num1 = float(input(\"Enter first number: \"))\n",
        "num2 = float(input(\"Enter second number: \"))\n",
        "addition = num1 + num2\n",
        "subtraction = num1 - num2\n",
        "multiplication = num1 * num2\n",
        "if num2 != 0:\n",
        "    division = num1 / num2\n",
        "else:\n",
        "    division = \"Undefined (division by zero)\"\n",
        "print(\"Addition:\", addition)\n",
        "print(\"Subtraction:\", subtraction)\n",
        "print(\"Multiplication:\", multiplication)\n",
        "print(\"Division:\", division)\n"
      ],
      "metadata": {
        "colab": {
          "base_uri": "https://localhost:8080/"
        },
        "id": "H7CkSBoa3_nX",
        "outputId": "7ec957a6-fa2a-4acb-fa58-eed4e30c3442"
      },
      "execution_count": 5,
      "outputs": [
        {
          "output_type": "stream",
          "name": "stdout",
          "text": [
            "Enter first number: 10\n",
            "Enter second number: 5\n",
            "Addition: 15.0\n",
            "Subtraction: 5.0\n",
            "Multiplication: 50.0\n",
            "Division: 2.0\n"
          ]
        }
      ]
    },
    {
      "cell_type": "markdown",
      "source": [
        "In this program i have taken two numbers from the user and performed addition, subtraction, multiplication, and safe division.\n"
      ],
      "metadata": {
        "id": "LVEdAStz813X"
      }
    },
    {
      "cell_type": "code",
      "source": [
        "sentence = input(\"Enter a sentence: \")\n",
        "modified_sentence = sentence.replace(\"python\", \"pythons\")\n",
        "print(modified_sentence)\n"
      ],
      "metadata": {
        "colab": {
          "base_uri": "https://localhost:8080/"
        },
        "id": "M_rMSNkl5AR0",
        "outputId": "2ae1dc19-defe-4dc3-e2ee-f0aa93ae705d"
      },
      "execution_count": 6,
      "outputs": [
        {
          "output_type": "stream",
          "name": "stdout",
          "text": [
            "Enter a sentence: I love playing with python\n",
            "I love playing with pythons\n"
          ]
        }
      ]
    },
    {
      "cell_type": "markdown",
      "source": [
        "In this program replaced every occurrence of \"python\" with \"pythons\" in the input sentence and printed the result.\n"
      ],
      "metadata": {
        "id": "N7hDNY_w9Gp2"
      }
    },
    {
      "cell_type": "code",
      "source": [
        "score = float(input(\"Enter your class score (0-100): \"))\n",
        "if score >= 90 and score <= 100:\n",
        "    grade = 'A'\n",
        "elif score >= 80:\n",
        "    grade = 'B'\n",
        "elif score >= 70:\n",
        "    grade = 'C'\n",
        "elif score >= 60:\n",
        "    grade = 'D'\n",
        "elif score >= 0:\n",
        "    grade = 'F'\n",
        "else:\n",
        "    grade = \"Invalid score\"\n",
        "print(\"Your grade is:\", grade)\n"
      ],
      "metadata": {
        "colab": {
          "base_uri": "https://localhost:8080/"
        },
        "id": "goHc7edI5Mxv",
        "outputId": "0fbf94c4-67f0-402e-cdf9-2d7edfe09764"
      },
      "execution_count": 11,
      "outputs": [
        {
          "output_type": "stream",
          "name": "stdout",
          "text": [
            "Enter your class score (0-100): 93\n",
            "Your grade is: A\n"
          ]
        }
      ]
    },
    {
      "cell_type": "markdown",
      "source": [
        "In this program i have a class score as input and printed the corresponding letter grade based on standard grading criteria.\n"
      ],
      "metadata": {
        "id": "JhgKbQam9Uq9"
      }
    },
    {
      "cell_type": "code",
      "source": [
        "x = [23, 'Python', 23.98]\n",
        "types = [type(item) for item in x]\n",
        "print(x)\n",
        "print(types)\n"
      ],
      "metadata": {
        "colab": {
          "base_uri": "https://localhost:8080/"
        },
        "id": "DU8yPd_c5ZLn",
        "outputId": "95a6d547-a62a-4288-9550-33e92aeb32a6"
      },
      "execution_count": 8,
      "outputs": [
        {
          "output_type": "stream",
          "name": "stdout",
          "text": [
            "[23, 'Python', 23.98]\n",
            "[<class 'int'>, <class 'str'>, <class 'float'>]\n"
          ]
        }
      ]
    },
    {
      "cell_type": "markdown",
      "source": [
        "In this program printed a list and a new list showing the data type of each element in the original list.\n"
      ],
      "metadata": {
        "id": "fJWqmOMP9jIA"
      }
    },
    {
      "cell_type": "code",
      "source": [
        "IT_companies = {'Facebook', 'Google', 'Microsoft', 'Apple', 'IBM', 'Oracle', 'Amazon'}\n",
        "A = {19, 22, 24, 20, 25, 26}\n",
        "B = {19, 22, 20, 25, 26, 24, 28, 27}\n",
        "age = [22, 19, 24, 25, 26, 24, 25, 24]\n",
        "print(\"Length of IT_companies:\", len(IT_companies))\n",
        "IT_companies.add('Twitter')\n",
        "print(\"After adding Twitter:\", IT_companies)\n",
        "IT_companies.update(['Snapchat', 'Netflix', 'Intel'])\n",
        "print(\"After adding multiple companies:\", IT_companies)\n",
        "IT_companies.remove('Oracle')\n",
        "print(\"After removing Oracle:\", IT_companies)\n",
        "print(\"Difference between remove and discard:\")\n",
        "print(\"- remove() raises an error if the item is not found.\")\n",
        "print(\"- discard() does nothing if the item is not found.\")\n",
        "print(\"A union B:\", A.union(B))\n",
        "print(\"A intersection B:\", A.intersection(B))\n",
        "print(\"Is A subset of B:\", A.issubset(B))\n",
        "print(\"Are A and B disjoint:\", A.isdisjoint(B))\n",
        "print(\"A | B:\", A | B)\n",
        "print(\"B | A:\", B | A)\n",
        "print(\"Symmetric difference:\", A.symmetric_difference(B))\n",
        "del A\n",
        "del B\n",
        "age_set = set(age)\n",
        "print(\"Length of age list:\", len(age))\n",
        "print(\"Length of age set:\", len(age_set))\n"
      ],
      "metadata": {
        "colab": {
          "base_uri": "https://localhost:8080/"
        },
        "id": "4eDfFHEL5xwV",
        "outputId": "738acfee-7c4a-41a0-c5b4-22ad0500114d"
      },
      "execution_count": 12,
      "outputs": [
        {
          "output_type": "stream",
          "name": "stdout",
          "text": [
            "Length of IT_companies: 7\n",
            "After adding Twitter: {'Twitter', 'Facebook', 'Amazon', 'IBM', 'Oracle', 'Google', 'Microsoft', 'Apple'}\n",
            "After adding multiple companies: {'IBM', 'Microsoft', 'Twitter', 'Amazon', 'Snapchat', 'Oracle', 'Intel', 'Google', 'Facebook', 'Netflix', 'Apple'}\n",
            "After removing Oracle: {'IBM', 'Microsoft', 'Twitter', 'Amazon', 'Snapchat', 'Intel', 'Google', 'Facebook', 'Netflix', 'Apple'}\n",
            "Difference between remove and discard:\n",
            "- remove() raises an error if the item is not found.\n",
            "- discard() does nothing if the item is not found.\n",
            "A union B: {19, 20, 22, 24, 25, 26, 27, 28}\n",
            "A intersection B: {19, 20, 22, 24, 25, 26}\n",
            "Is A subset of B: True\n",
            "Are A and B disjoint: False\n",
            "A | B: {19, 20, 22, 24, 25, 26, 27, 28}\n",
            "B | A: {19, 20, 22, 24, 25, 26, 27, 28}\n",
            "Symmetric difference: {27, 28}\n",
            "Length of age list: 8\n",
            "Length of age set: 5\n"
          ]
        }
      ]
    },
    {
      "cell_type": "markdown",
      "source": [
        "In this program performed various set operations on IT companies and number sets, demonstrating addition, removal, unions, intersections, differences, and comparing list vs. set length.\n"
      ],
      "metadata": {
        "id": "Cw2exhX9-Ko6"
      }
    }
  ]
}